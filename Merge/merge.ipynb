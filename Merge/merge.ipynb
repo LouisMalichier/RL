{
 "cells": [
  {
   "cell_type": "markdown",
   "metadata": {},
   "source": [
    "Implémentation d'un modèle DQN sur l'environnement merge-V0"
   ]
  },
  {
   "cell_type": "code",
   "execution_count": null,
   "metadata": {},
   "outputs": [],
   "source": [
    "import gymnasium\n",
    "from gymnasium.wrappers import RecordVideo\n",
    "from stable_baselines3 import DQN\n",
    "import tensorboard\n",
    "from RL.config_merge import config_merge \n",
    "import highway_env\n",
    "highway_env.register_highway_envs()  # noqa: F401\n",
    "\n",
    "TRAIN = True\n",
    "\n",
    "if __name__ == \"__main__\":\n",
    "    # Create the environment\n",
    "    env = gymnasium.make(\"merge-v0\", render_mode='rgb_array',config=config_merge)\n",
    "    obs, info = env.reset()\n",
    "\n",
    "    # Create the model\n",
    "    model = DQN(\n",
    "        \"MlpPolicy\",\n",
    "        env,\n",
    "        policy_kwargs=dict(net_arch=[256, 256]),\n",
    "        learning_rate=5e-4,\n",
    "        buffer_size=15000,\n",
    "        learning_starts=200,\n",
    "        batch_size=32,\n",
    "        gamma=0.8,\n",
    "        train_freq=1,\n",
    "        gradient_steps=1,\n",
    "        target_update_interval=50,\n",
    "        verbose=1,\n",
    "        tensorboard_log=\"racetrack/\",\n",
    "    )\n",
    "\n",
    "    # Train the model\n",
    "    if TRAIN:\n",
    "        model.learn(total_timesteps=int(2e4))\n",
    "        model.save(\"racetrack/model\")\n",
    "        del model\n",
    "\n",
    "    # Run the trained model and record video\n",
    "    model = DQN.load(\"racetrack/model\", env=env)\n",
    "    env = RecordVideo(\n",
    "        env, video_folder=\"racetrack/videos\", episode_trigger=lambda e: True\n",
    "    )\n",
    "    env.unwrapped.set_record_video_wrapper(env)\n",
    "    env.configure({\"simulation_frequency\": 15})  # Higher FPS for rendering\n",
    "\n",
    "for videos in range(10):\n",
    "    print(videos)\n",
    "    done = truncated = False\n",
    "    obs, info = env.reset()\n",
    "    while not (done or truncated):\n",
    "        # Predict\n",
    "        action, _states = model.predict(obs, deterministic=True)\n",
    "        # Get reward\n",
    "        obs, reward, done, truncated, info = env.step(action)\n",
    "        # Render\n",
    "        env.render()\n",
    "env.close()"
   ]
  }
 ],
 "metadata": {
  "kernelspec": {
   "display_name": "Python 3",
   "language": "python",
   "name": "python3"
  },
  "language_info": {
   "codemirror_mode": {
    "name": "ipython",
    "version": 3
   },
   "file_extension": ".py",
   "mimetype": "text/x-python",
   "name": "python",
   "nbconvert_exporter": "python",
   "pygments_lexer": "ipython3",
   "version": "3.11.6"
  },
  "orig_nbformat": 4
 },
 "nbformat": 4,
 "nbformat_minor": 2
}
